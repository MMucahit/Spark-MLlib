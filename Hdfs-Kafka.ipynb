{
 "cells": [
  {
   "cell_type": "code",
   "execution_count": 1,
   "metadata": {},
   "outputs": [],
   "source": [
    "import findspark\n",
    "findspark.init('/opt/spark/spark-3.2.1-bin-hadoop3.2')"
   ]
  },
  {
   "cell_type": "code",
   "execution_count": null,
   "metadata": {},
   "outputs": [],
   "source": [
    "import warnings\n",
    "warnings.filterwarnings('ignore')"
   ]
  },
  {
   "cell_type": "code",
   "execution_count": null,
   "metadata": {},
   "outputs": [],
   "source": [
    "## Import SparkSession\n",
    "from pyspark.sql import SparkSession\n",
    "\n",
    "## Create SparkSession \n",
    "spark = SparkSession.builder \\\n",
    "      .master(\"local\") \\\n",
    "      .config(\"spark.mongodb.input.uri\", \"mongodb://127.0.0.1\") \\\n",
    "      .config(\"spark.mongodb.output.uri\", \"mongodb://127.0.0.1\") \\\n",
    "      .appName(\"Spark-MLlib-Titanic\") \\\n",
    "      .getOrCreate() "
   ]
  },
  {
   "cell_type": "code",
   "execution_count": null,
   "metadata": {},
   "outputs": [],
   "source": [
    "from pyspark.sql.types import StructField, IntegerType, StringType, StructType, FloatType\n",
    "from pyspark.sql.functions import from_json, col\n",
    "\n",
    "schema = StructType([ \\\n",
    "    StructField(\"PassengerId\",IntegerType(),True), \\\n",
    "    StructField(\"Survived\",IntegerType(),True), \\\n",
    "    StructField(\"Pclass\",IntegerType(),True), \\\n",
    "    StructField(\"Name\", StringType(), True), \\\n",
    "    StructField(\"Sex\", StringType(), True), \\\n",
    "    StructField(\"Age\", FloatType(), True), \\\n",
    "    StructField(\"SibSp\", IntegerType(), True), \\\n",
    "    StructField(\"Parch\", IntegerType(), True), \\\n",
    "    StructField(\"Ticket\", StringType(), True), \\\n",
    "    StructField(\"Fare\", FloatType(), True), \\\n",
    "    StructField(\"Cabin\", StringType(), True), \\\n",
    "    StructField(\"Embarked\", StringType(), True)\n",
    "  ])"
   ]
  },
  {
   "cell_type": "code",
   "execution_count": null,
   "metadata": {},
   "outputs": [],
   "source": [
    "df = spark.read.csv('hdfs://localhost:9000/data/train.csv', header=True, schema=schema)\n",
    "df.printSchema()\n",
    "df.show(truncate=False)"
   ]
  },
  {
   "cell_type": "code",
   "execution_count": null,
   "metadata": {},
   "outputs": [],
   "source": [
    "df = df.toPandas()\n",
    "\n",
    "id_dict = df.to_dict(orient='records')"
   ]
  },
  {
   "cell_type": "code",
   "execution_count": null,
   "metadata": {},
   "outputs": [],
   "source": [
    "from kafka import KafkaProducer\n",
    "\n",
    "topic = 'Titanic'\n",
    "bootstrap_servers = 'localhost:9092'\n",
    "producer = KafkaProducer(bootstrap_servers=bootstrap_servers)"
   ]
  },
  {
   "cell_type": "code",
   "execution_count": null,
   "metadata": {},
   "outputs": [],
   "source": [
    "import json\n",
    "\n",
    "for i in id_dict:\n",
    "    i = json.dumps(i)\n",
    "    future = producer.send(topic, bytes(i, encoding='utf-8'))\n",
    "    print(f'Sending msg: {i}')\n",
    "\n",
    "    result = future.get(timeout=60)"
   ]
  }
 ],
 "metadata": {
  "kernelspec": {
   "display_name": "Python 3.10.4 64-bit",
   "language": "python",
   "name": "python3"
  },
  "language_info": {
   "codemirror_mode": {
    "name": "ipython",
    "version": 3
   },
   "file_extension": ".py",
   "mimetype": "text/x-python",
   "name": "python",
   "nbconvert_exporter": "python",
   "pygments_lexer": "ipython3",
   "version": "3.10.4"
  },
  "orig_nbformat": 4,
  "vscode": {
   "interpreter": {
    "hash": "916dbcbb3f70747c44a77c7bcd40155683ae19c65e1c03b4aa3499c5328201f1"
   }
  }
 },
 "nbformat": 4,
 "nbformat_minor": 2
}
